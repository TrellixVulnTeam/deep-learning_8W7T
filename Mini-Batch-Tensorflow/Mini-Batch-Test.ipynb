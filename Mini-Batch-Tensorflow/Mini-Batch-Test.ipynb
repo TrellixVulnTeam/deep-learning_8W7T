{
 "cells": [
  {
   "cell_type": "code",
   "execution_count": 7,
   "metadata": {
    "scrolled": true
   },
   "outputs": [
    {
     "name": "stdout",
     "output_type": "stream",
     "text": [
      "Extracting MNIST data/train-images-idx3-ubyte.gz\n",
      "Extracting MNIST data/train-labels-idx1-ubyte.gz\n",
      "Extracting MNIST data/t10k-images-idx3-ubyte.gz\n",
      "Extracting MNIST data/t10k-labels-idx1-ubyte.gz\n"
     ]
    }
   ],
   "source": [
    "from tensorflow.examples.tutorials.mnist import input_data\n",
    "import tensorflow as tf\n",
    "import numpy as np\n",
    "\n",
    "n_input = 784  # MNIST data input (img shape: 28*28)\n",
    "n_classes = 10  # MNIST total classes (0-9 digits)\n",
    "\n",
    "# Import MNIST data\n",
    "mnist = input_data.read_data_sets('MNIST data', one_hot=True)\n",
    "\n",
    "# The features are already scaled and the data is shuffled\n",
    "train_features = mnist.train.images\n",
    "test_features = mnist.test.images\n",
    "\n",
    "train_labels = mnist.train.labels.astype(np.float32)\n",
    "test_labels = mnist.test.labels.astype(np.float32)\n",
    "\n",
    "# Weights & bias\n",
    "weights = tf.Variable(tf.random_normal([n_input, n_classes]))\n",
    "bias = tf.Variable(tf.random_normal([n_classes]))"
   ]
  },
  {
   "cell_type": "code",
   "execution_count": 18,
   "metadata": {},
   "outputs": [
    {
     "name": "stdout",
     "output_type": "stream",
     "text": [
      "Shape:(55000, 784)\n",
      "172480112 bytes\n",
      "Memory Size: 164Mb\n"
     ]
    }
   ],
   "source": [
    "from sys import getsizeof\n",
    "\n",
    "print(\"Shape:\" + str(train_features.shape))\n",
    "\n",
    "print(str(getsizeof(train_features)) + \" bytes\")\n",
    "print(\"Memory Size: \" + str((getsizeof(train_features) / 1024)/1024) + \"Mb\")\n"
   ]
  },
  {
   "cell_type": "code",
   "execution_count": 19,
   "metadata": {},
   "outputs": [
    {
     "name": "stdout",
     "output_type": "stream",
     "text": [
      "Shape:(10000, 784)\n",
      "31360112 bytes\n",
      "Memory Size: 29Mb\n"
     ]
    }
   ],
   "source": [
    "print(\"Shape:\" + str(test_features.shape))\n",
    "\n",
    "print(str(getsizeof(test_features)) + \" bytes\")\n",
    "print(\"Memory Size: \" + str((getsizeof(test_features) / 1024)/1024) + \"Mb\")"
   ]
  },
  {
   "cell_type": "code",
   "execution_count": 24,
   "metadata": {},
   "outputs": [
    {
     "name": "stdout",
     "output_type": "stream",
     "text": [
      "Shape:(10,)\n",
      "64 bytes\n",
      "Memory Size: 0Mb\n"
     ]
    }
   ],
   "source": [
    "print(\"Shape:\" + str(bias.shape))\n",
    "\n",
    "print(str(getsizeof(bias)) + \" bytes\")\n",
    "print(\"Memory Size: \" + str((getsizeof(bias) / 1024)/1024) + \"Mb\")"
   ]
  },
  {
   "cell_type": "code",
   "execution_count": 25,
   "metadata": {},
   "outputs": [
    {
     "name": "stdout",
     "output_type": "stream",
     "text": [
      "Shape:(784, 10)\n",
      "64 bytes\n",
      "Memory Size: 0Mb\n"
     ]
    }
   ],
   "source": [
    "print(\"Shape:\" + str(weights.shape))\n",
    "\n",
    "print(str(getsizeof(weights)) + \" bytes\")\n",
    "print(\"Memory Size: \" + str((getsizeof(weights) / 1024)/1024) + \"Mb\")"
   ]
  },
  {
   "cell_type": "code",
   "execution_count": 26,
   "metadata": {},
   "outputs": [],
   "source": [
    "features = tf.placeholder(tf.float32, [None, n_input])\n",
    "labels = tf.placeholder(tf.float32, [None, n_classes])"
   ]
  }
 ],
 "metadata": {
  "kernelspec": {
   "display_name": "Python 3",
   "language": "python",
   "name": "python3"
  },
  "language_info": {
   "codemirror_mode": {
    "name": "ipython",
    "version": 2
   },
   "file_extension": ".py",
   "mimetype": "text/x-python",
   "name": "python",
   "nbconvert_exporter": "python",
   "pygments_lexer": "ipython2",
   "version": "2.7.15rc1"
  }
 },
 "nbformat": 4,
 "nbformat_minor": 2
}
